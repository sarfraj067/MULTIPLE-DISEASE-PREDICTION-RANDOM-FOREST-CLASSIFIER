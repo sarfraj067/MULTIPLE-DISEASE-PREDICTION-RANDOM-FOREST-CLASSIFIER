{
  "nbformat": 4,
  "nbformat_minor": 0,
  "metadata": {
    "colab": {
      "provenance": []
    },
    "kernelspec": {
      "name": "python3",
      "display_name": "Python 3"
    },
    "language_info": {
      "name": "python"
    }
  },
  "cells": [
    {
      "cell_type": "code",
      "execution_count": 1,
      "metadata": {
        "id": "gU_Coh64ltoF"
      },
      "outputs": [],
      "source": [
        "import pandas as pd\n",
        "from sklearn.model_selection import train_test_split\n",
        "from sklearn.metrics import accuracy_score,confusion_matrix,classification_report\n",
        "from sklearn.preprocessing import LabelEncoder\n",
        "import numpy as np\n",
        "from sklearn.ensemble import RandomForestClassifier\n",
        "from scipy.stats import mode"
      ]
    },
    {
      "cell_type": "code",
      "source": [
        "data = pd.read_csv('https://github.com/ybifoundation/Dataset/raw/main/MultipleDiseasePrediction.csv')"
      ],
      "metadata": {
        "id": "KjGYaTdPludq"
      },
      "execution_count": 2,
      "outputs": []
    },
    {
      "cell_type": "code",
      "source": [
        "encoder = LabelEncoder()\n",
        "data[\"prognosis\"] = encoder.fit_transform(data[\"prognosis\"])"
      ],
      "metadata": {
        "id": "qQYHjN-Elw3e"
      },
      "execution_count": 3,
      "outputs": []
    },
    {
      "cell_type": "code",
      "source": [
        "X = data.iloc[:,:-1]\n",
        "y = data.iloc[:, -1]\n",
        "X_train, X_test, y_train, y_test =train_test_split(X, y, test_size = 0.2, random_state = 24)"
      ],
      "metadata": {
        "id": "gG4jkYxylzs9"
      },
      "execution_count": 4,
      "outputs": []
    },
    {
      "cell_type": "code",
      "source": [
        "print(f\"Train: {X_train.shape}, {y_train.shape}\")\n",
        "\n",
        "print(f\"Test: {X_test.shape}, {y_test.shape}\")"
      ],
      "metadata": {
        "colab": {
          "base_uri": "https://localhost:8080/"
        },
        "id": "_GiZKAuXl2Dx",
        "outputId": "f4a7861a-2023-4a50-b288-f2ae385e4222"
      },
      "execution_count": 5,
      "outputs": [
        {
          "output_type": "stream",
          "name": "stdout",
          "text": [
            "Train: (3936, 132), (3936,)\n",
            "Test: (984, 132), (984,)\n"
          ]
        }
      ]
    },
    {
      "cell_type": "code",
      "source": [
        "rf_model = RandomForestClassifier(random_state=18)"
      ],
      "metadata": {
        "id": "v0hoQW39l333"
      },
      "execution_count": 6,
      "outputs": []
    },
    {
      "cell_type": "code",
      "source": [
        "rf_model.fit(X_train, y_train)\n",
        "preds = rf_model.predict(X_test)\n",
        "\n",
        "print(f\"Accuracy on train data by Random Forest Classifier : {accuracy_score(y_train, rf_model.predict(X_train))*100}\")\n",
        " \n",
        "\n",
        "print(f\"Accuracy on test data by Random Forest Classifier : {accuracy_score(y_test, preds)*100}\")\n",
        " \n",
        "\n",
        "cf_matrix = confusion_matrix(y_test, preds)\n",
        "cf_matrix\n",
        "rf_preds = rf_model.predict(X_test)"
      ],
      "metadata": {
        "colab": {
          "base_uri": "https://localhost:8080/"
        },
        "id": "0ITmU078l5zw",
        "outputId": "fd7a6e55-d085-47e0-d174-b4692bbc4904"
      },
      "execution_count": 9,
      "outputs": [
        {
          "output_type": "stream",
          "name": "stdout",
          "text": [
            "Accuracy on train data by Random Forest Classifier : 100.0\n",
            "Accuracy on test data by Random Forest Classifier : 100.0\n"
          ]
        }
      ]
    },
    {
      "cell_type": "code",
      "source": [
        "y_pred=rf_model.predict(X_test.values)\n",
        "y_pred\n",
        "accuracy_score(y_test,y_pred)\n"
      ],
      "metadata": {
        "colab": {
          "base_uri": "https://localhost:8080/"
        },
        "id": "eb-MvMFbmKZR",
        "outputId": "95b83615-6084-46a7-a933-26012a3eeec5"
      },
      "execution_count": 11,
      "outputs": [
        {
          "output_type": "stream",
          "name": "stderr",
          "text": [
            "/usr/local/lib/python3.8/dist-packages/sklearn/base.py:450: UserWarning: X does not have valid feature names, but RandomForestClassifier was fitted with feature names\n",
            "  warnings.warn(\n"
          ]
        },
        {
          "output_type": "execute_result",
          "data": {
            "text/plain": [
              "1.0"
            ]
          },
          "metadata": {},
          "execution_count": 11
        }
      ]
    },
    {
      "cell_type": "code",
      "source": [
        "confusion_matrix(y_test,y_pred)"
      ],
      "metadata": {
        "colab": {
          "base_uri": "https://localhost:8080/"
        },
        "id": "AKi-BJUOmLbL",
        "outputId": "034f98d6-8450-4060-b393-1f080706aad6"
      },
      "execution_count": 12,
      "outputs": [
        {
          "output_type": "execute_result",
          "data": {
            "text/plain": [
              "array([[32,  0,  0, ...,  0,  0,  0],\n",
              "       [ 0, 21,  0, ...,  0,  0,  0],\n",
              "       [ 0,  0, 20, ...,  0,  0,  0],\n",
              "       ...,\n",
              "       [ 0,  0,  0, ..., 26,  0,  0],\n",
              "       [ 0,  0,  0, ...,  0, 18,  0],\n",
              "       [ 0,  0,  0, ...,  0,  0, 22]])"
            ]
          },
          "metadata": {},
          "execution_count": 12
        }
      ]
    },
    {
      "cell_type": "code",
      "source": [
        "print(classification_report(y_test,y_pred,))"
      ],
      "metadata": {
        "colab": {
          "base_uri": "https://localhost:8080/"
        },
        "id": "xU6y4SElmeNG",
        "outputId": "1310c91e-eb92-42e5-a186-f20012cdf3d3"
      },
      "execution_count": 13,
      "outputs": [
        {
          "output_type": "stream",
          "name": "stdout",
          "text": [
            "              precision    recall  f1-score   support\n",
            "\n",
            "           0       1.00      1.00      1.00        32\n",
            "           1       1.00      1.00      1.00        21\n",
            "           2       1.00      1.00      1.00        20\n",
            "           3       1.00      1.00      1.00        23\n",
            "           4       1.00      1.00      1.00        24\n",
            "           5       1.00      1.00      1.00        29\n",
            "           6       1.00      1.00      1.00        32\n",
            "           7       1.00      1.00      1.00        24\n",
            "           8       1.00      1.00      1.00        29\n",
            "           9       1.00      1.00      1.00        24\n",
            "          10       1.00      1.00      1.00        25\n",
            "          11       1.00      1.00      1.00        17\n",
            "          12       1.00      1.00      1.00        21\n",
            "          13       1.00      1.00      1.00        27\n",
            "          14       1.00      1.00      1.00        20\n",
            "          15       1.00      1.00      1.00        25\n",
            "          16       1.00      1.00      1.00        23\n",
            "          17       1.00      1.00      1.00        22\n",
            "          18       1.00      1.00      1.00        22\n",
            "          19       1.00      1.00      1.00        28\n",
            "          20       1.00      1.00      1.00        29\n",
            "          21       1.00      1.00      1.00        28\n",
            "          22       1.00      1.00      1.00        26\n",
            "          23       1.00      1.00      1.00        23\n",
            "          24       1.00      1.00      1.00        20\n",
            "          25       1.00      1.00      1.00        21\n",
            "          26       1.00      1.00      1.00        31\n",
            "          27       1.00      1.00      1.00        24\n",
            "          28       1.00      1.00      1.00        21\n",
            "          29       1.00      1.00      1.00        20\n",
            "          30       1.00      1.00      1.00        25\n",
            "          31       1.00      1.00      1.00        25\n",
            "          32       1.00      1.00      1.00        25\n",
            "          33       1.00      1.00      1.00        28\n",
            "          34       1.00      1.00      1.00        25\n",
            "          35       1.00      1.00      1.00        16\n",
            "          36       1.00      1.00      1.00        19\n",
            "          37       1.00      1.00      1.00        24\n",
            "          38       1.00      1.00      1.00        26\n",
            "          39       1.00      1.00      1.00        18\n",
            "          40       1.00      1.00      1.00        22\n",
            "\n",
            "    accuracy                           1.00       984\n",
            "   macro avg       1.00      1.00      1.00       984\n",
            "weighted avg       1.00      1.00      1.00       984\n",
            "\n"
          ]
        }
      ]
    },
    {
      "cell_type": "code",
      "source": [
        "symptoms = X.columns.values\n",
        " \n",
        "\n",
        "\n",
        "symptom_index = {}\n",
        "\n",
        "for index, value in enumerate(symptoms):\n",
        "\n",
        "    symptom = \" \".join([i.capitalize() for i in value.split(\"_\")])\n",
        "\n",
        "    symptom_index[symptom] = index\n",
        "data_dict = {\n",
        "    \"symptom_index\":symptom_index,\n",
        "    \"predictions_classes\":encoder.classes_\n",
        "}\n",
        " \n",
        "\n",
        "\n",
        "def predictDisease(symptoms):\n",
        "    symptoms = symptoms.split(\",\")\n",
        "\n",
        "\n",
        "\n",
        "    input_data = [0] * len(data_dict[\"symptom_index\"])\n",
        "\n",
        "    for symptom in symptoms:\n",
        "\n",
        "        index = data_dict[\"symptom_index\"][symptom]\n",
        "\n",
        "        input_data[index] = 1\n",
        "\n",
        "         \n",
        "\n",
        "\n",
        "    input_data = np.array(input_data).reshape(1,-1)\n",
        "    rf_prediction = data_dict[\"predictions_classes\"][rf_model.predict(input_data)[0]]\n",
        "   \n",
        "\n",
        "    predictions = {\n",
        "\n",
        "        \"Predicted Disease is \": rf_prediction,\n",
        "\n",
        "\n",
        "    }\n",
        "\n",
        "    return predictions\n",
        " \n",
        "# Testing the function\n",
        "\n",
        "print(predictDisease(\"Itching,Skin Rash,Fatigue,Lethargy,High Fever,Headache\"))"
      ],
      "metadata": {
        "colab": {
          "base_uri": "https://localhost:8080/"
        },
        "id": "q7bvoBY_mglO",
        "outputId": "beb2c504-9f8f-40de-9c4a-1432b4397ef8"
      },
      "execution_count": 14,
      "outputs": [
        {
          "output_type": "stream",
          "name": "stdout",
          "text": [
            "{'Predicted Disease is ': 'Chicken pox'}\n"
          ]
        },
        {
          "output_type": "stream",
          "name": "stderr",
          "text": [
            "/usr/local/lib/python3.8/dist-packages/sklearn/base.py:450: UserWarning: X does not have valid feature names, but RandomForestClassifier was fitted with feature names\n",
            "  warnings.warn(\n"
          ]
        }
      ]
    },
    {
      "cell_type": "code",
      "source": [],
      "metadata": {
        "id": "KKy90_97mv-x"
      },
      "execution_count": null,
      "outputs": []
    }
  ]
}